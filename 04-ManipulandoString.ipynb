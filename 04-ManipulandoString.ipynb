{
  "cells": [
    {
      "cell_type": "markdown",
      "metadata": {
        "colab_type": "text",
        "id": "view-in-github"
      },
      "source": [
        "<a href=\"https://colab.research.google.com/github/Anna-Tereshchuk/Data-Engineering-Notebooks/blob/main/Code_challenge_String_manipulation.ipynb\" target=\"_parent\"><img src=\"https://colab.research.google.com/assets/colab-badge.svg\" alt=\"Open In Colab\"/></a>"
      ]
    },
    {
      "cell_type": "code",
      "execution_count": null,
      "metadata": {
        "id": "MocW5GIDHxK9"
      },
      "outputs": [],
      "source": []
    },
    {
      "cell_type": "code",
      "execution_count": 1,
      "metadata": {
        "colab": {
          "base_uri": "https://localhost:8080/"
        },
        "id": "WsoiyiL3LbQS",
        "outputId": "97b26a83-1370-4c0b-be2e-3088c107ef66"
      },
      "outputs": [
        {
          "name": "stdout",
          "output_type": "stream",
          "text": [
            "Smaller\n"
          ]
        }
      ],
      "source": [
        "num = 7\n",
        "if num > 10:\n",
        "    print(\"Greater\")\n",
        "else:\n",
        "    print(\"Smaller\")\n"
      ]
    },
    {
      "cell_type": "code",
      "execution_count": 2,
      "metadata": {
        "colab": {
          "base_uri": "https://localhost:8080/"
        },
        "id": "w176L5Q2LhKe",
        "outputId": "f21ad215-65ba-4c2a-c8e5-9d6ae704dbb8"
      },
      "outputs": [
        {
          "name": "stdout",
          "output_type": "stream",
          "text": [
            "0\n",
            "1\n",
            "2\n",
            "3\n",
            "4\n"
          ]
        }
      ],
      "source": [
        "for i in range(5):\n",
        "    print(i)\n"
      ]
    },
    {
      "cell_type": "code",
      "execution_count": null,
      "metadata": {
        "colab": {
          "base_uri": "https://localhost:8080/"
        },
        "id": "fxL4-1h9LrsI",
        "outputId": "47033d75-398b-4ed2-ccd8-f1bd41531731"
      },
      "outputs": [],
      "source": [
        "number = 5\n",
        "while number > 0:\n",
        "    print(number)\n",
        "    number -= 1\n"
      ]
    },
    {
      "cell_type": "code",
      "execution_count": null,
      "metadata": {
        "colab": {
          "base_uri": "https://localhost:8080/"
        },
        "id": "k966zhe1NSuc",
        "outputId": "78000701-4fa2-4bd2-dc7b-dbf24cec6b07"
      },
      "outputs": [],
      "source": [
        "number = 5\n",
        "while number >= 0:\n",
        "    print(number)\n",
        "    number -= 1\n"
      ]
    },
    {
      "cell_type": "code",
      "execution_count": 3,
      "metadata": {
        "colab": {
          "base_uri": "https://localhost:8080/"
        },
        "id": "c2RE4JgFU9H3",
        "outputId": "fa2831d4-24be-44fb-f262-9bda50c00062"
      },
      "outputs": [
        {
          "name": "stdout",
          "output_type": "stream",
          "text": [
            "Hello, Luciana!\n"
          ]
        }
      ],
      "source": [
        "def greet(name):\n",
        "    print(f\"Hello, {name}!\")\n",
        "greet(\"Luciana\")\n"
      ]
    },
    {
      "cell_type": "code",
      "execution_count": 4,
      "metadata": {
        "colab": {
          "base_uri": "https://localhost:8080/"
        },
        "id": "4WXP6SQIVoMM",
        "outputId": "9923e3b1-cf9e-4449-ed3f-ffd9cea30495"
      },
      "outputs": [
        {
          "name": "stdout",
          "output_type": "stream",
          "text": [
            "8\n"
          ]
        }
      ],
      "source": [
        "def add_numbers(num1, num2):\n",
        "    return num1 + num2\n",
        "result = add_numbers(3, 5)\n",
        "print(result)  \n"
      ]
    },
    {
      "cell_type": "code",
      "execution_count": 5,
      "metadata": {
        "colab": {
          "base_uri": "https://localhost:8080/"
        },
        "id": "Nw_QOIfpKXjr",
        "outputId": "40752220-2ac1-468c-b723-5ec5aab9ddc3"
      },
      "outputs": [
        {
          "name": "stdout",
          "output_type": "stream",
          "text": [
            "Original string: Hello, World!\n",
            "Reversed string: !dlroW ,olleH\n"
          ]
        }
      ],
      "source": [
        "def reverse_string(text):\n",
        "    # Use slicing to reverse the string\n",
        "    return text[::-1]\n",
        "\n",
        "# Test string\n",
        "test_string = \"Hello, World!\"\n",
        "\n",
        "# Call the function to reverse the string\n",
        "result = reverse_string(test_string)\n",
        "\n",
        "# Print the original and reversed strings\n",
        "print(\"Original string:\", test_string)\n",
        "print(\"Reversed string:\", result)\n"
      ]
    }
  ],
  "metadata": {
    "colab": {
      "authorship_tag": "ABX9TyOW6yWrZFq5cK+qOVLYZ7g6",
      "include_colab_link": true,
      "provenance": []
    },
    "kernelspec": {
      "display_name": "base",
      "language": "python",
      "name": "python3"
    },
    "language_info": {
      "codemirror_mode": {
        "name": "ipython",
        "version": 3
      },
      "file_extension": ".py",
      "mimetype": "text/x-python",
      "name": "python",
      "nbconvert_exporter": "python",
      "pygments_lexer": "ipython3",
      "version": "3.12.7"
    }
  },
  "nbformat": 4,
  "nbformat_minor": 0
}
